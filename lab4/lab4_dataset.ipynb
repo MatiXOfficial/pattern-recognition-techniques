{
 "cells": [
  {
   "cell_type": "code",
   "execution_count": 1,
   "id": "584ce84e",
   "metadata": {},
   "outputs": [],
   "source": [
    "from jmd_imagescraper.core import *\n",
    "from pathlib import Path\n",
    "import shutil"
   ]
  },
  {
   "cell_type": "code",
   "execution_count": 2,
   "id": "f24648c8",
   "metadata": {},
   "outputs": [],
   "source": [
    "CLASSES = {\n",
    "    \"gladius\": \"gladius sword\",\n",
    "    \"scutum\" : \"scutum shield\",\n",
    "    \"lorica\" : \"lorica armor\",\n",
    "}\n",
    "MAX_RESULTS=333"
   ]
  },
  {
   "cell_type": "code",
   "execution_count": 3,
   "id": "23223538",
   "metadata": {},
   "outputs": [
    {
     "name": "stdout",
     "output_type": "stream",
     "text": [
      "Duckduckgo search: gladius sword\n",
      "Downloading results into D:\\Repository\\Metody rozpoznawania obrazów\\lab4\\downloaded_images\\gladius\n"
     ]
    },
    {
     "data": {
      "text/html": [
       "\n",
       "    <div>\n",
       "        <style>\n",
       "            /* Turns off some styling */\n",
       "            progress {\n",
       "                /* gets rid of default border in Firefox and Opera. */\n",
       "                border: none;\n",
       "                /* Needs to be in here for Safari polyfill so background images work as expected. */\n",
       "                background-size: auto;\n",
       "            }\n",
       "            .progress-bar-interrupted, .progress-bar-interrupted::-webkit-progress-bar {\n",
       "                background: #F44336;\n",
       "            }\n",
       "        </style>\n",
       "      <progress value='333' class='' max='333' style='width:300px; height:20px; vertical-align: middle;'></progress>\n",
       "      100.00% [333/333 00:28<00:00 Images downloaded]\n",
       "    </div>\n",
       "    "
      ],
      "text/plain": [
       "<IPython.core.display.HTML object>"
      ]
     },
     "metadata": {},
     "output_type": "display_data"
    },
    {
     "name": "stdout",
     "output_type": "stream",
     "text": [
      "Duckduckgo search: scutum shield\n",
      "Downloading results into D:\\Repository\\Metody rozpoznawania obrazów\\lab4\\downloaded_images\\scutum\n"
     ]
    },
    {
     "data": {
      "text/html": [
       "\n",
       "    <div>\n",
       "        <style>\n",
       "            /* Turns off some styling */\n",
       "            progress {\n",
       "                /* gets rid of default border in Firefox and Opera. */\n",
       "                border: none;\n",
       "                /* Needs to be in here for Safari polyfill so background images work as expected. */\n",
       "                background-size: auto;\n",
       "            }\n",
       "            .progress-bar-interrupted, .progress-bar-interrupted::-webkit-progress-bar {\n",
       "                background: #F44336;\n",
       "            }\n",
       "        </style>\n",
       "      <progress value='333' class='' max='333' style='width:300px; height:20px; vertical-align: middle;'></progress>\n",
       "      100.00% [333/333 00:26<00:00 Images downloaded]\n",
       "    </div>\n",
       "    "
      ],
      "text/plain": [
       "<IPython.core.display.HTML object>"
      ]
     },
     "metadata": {},
     "output_type": "display_data"
    },
    {
     "name": "stdout",
     "output_type": "stream",
     "text": [
      "Duckduckgo search: lorica armor\n",
      "Downloading results into D:\\Repository\\Metody rozpoznawania obrazów\\lab4\\downloaded_images\\lorica\n"
     ]
    },
    {
     "data": {
      "text/html": [
       "\n",
       "    <div>\n",
       "        <style>\n",
       "            /* Turns off some styling */\n",
       "            progress {\n",
       "                /* gets rid of default border in Firefox and Opera. */\n",
       "                border: none;\n",
       "                /* Needs to be in here for Safari polyfill so background images work as expected. */\n",
       "                background-size: auto;\n",
       "            }\n",
       "            .progress-bar-interrupted, .progress-bar-interrupted::-webkit-progress-bar {\n",
       "                background: #F44336;\n",
       "            }\n",
       "        </style>\n",
       "      <progress value='333' class='' max='333' style='width:300px; height:20px; vertical-align: middle;'></progress>\n",
       "      100.00% [333/333 00:26<00:00 Images downloaded]\n",
       "    </div>\n",
       "    "
      ],
      "text/plain": [
       "<IPython.core.display.HTML object>"
      ]
     },
     "metadata": {},
     "output_type": "display_data"
    }
   ],
   "source": [
    "root = Path().cwd()/\"downloaded_images\"\n",
    "if root.exists():\n",
    "    shutil.rmtree(root)\n",
    "\n",
    "for c, search in CLASSES.items():\n",
    "    duckduckgo_search(root, c, search, max_results=MAX_RESULTS)"
   ]
  },
  {
   "cell_type": "code",
   "execution_count": null,
   "id": "f842dd87",
   "metadata": {},
   "outputs": [],
   "source": []
  }
 ],
 "metadata": {
  "kernelspec": {
   "display_name": "Python 3 (ipykernel)",
   "language": "python",
   "name": "python3"
  },
  "language_info": {
   "codemirror_mode": {
    "name": "ipython",
    "version": 3
   },
   "file_extension": ".py",
   "mimetype": "text/x-python",
   "name": "python",
   "nbconvert_exporter": "python",
   "pygments_lexer": "ipython3",
   "version": "3.9.7"
  }
 },
 "nbformat": 4,
 "nbformat_minor": 5
}
