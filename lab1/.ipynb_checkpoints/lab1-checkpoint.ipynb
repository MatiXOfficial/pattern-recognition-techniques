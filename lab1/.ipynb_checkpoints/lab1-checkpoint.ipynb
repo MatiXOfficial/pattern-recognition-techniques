{
 "cells": [
  {
   "cell_type": "code",
   "execution_count": 1,
   "id": "415ad2ff",
   "metadata": {},
   "outputs": [],
   "source": [
    "import numpy as np\n",
    "import tensorflow as tf\n",
    "\n",
    "%matplotlib inline\n",
    "import matplotlib as mpl\n",
    "from matplotlib import pyplot as plt\n",
    "mpl.rc('axes', labelsize=14)\n",
    "mpl.rc('xtick', labelsize=12)\n",
    "mpl.rc('ytick', labelsize=12)\n",
    "\n",
    "import random\n",
    "random.seed(42)"
   ]
  },
  {
   "cell_type": "markdown",
   "id": "a84c0044",
   "metadata": {},
   "source": [
    "# Preparing the dataset"
   ]
  },
  {
   "cell_type": "code",
   "execution_count": 2,
   "id": "c0803f4f",
   "metadata": {},
   "outputs": [
    {
     "data": {
      "text/plain": [
       "<tf.Tensor: shape=(1,), dtype=float32, numpy=array([2.], dtype=float32)>"
      ]
     },
     "execution_count": 2,
     "metadata": {},
     "output_type": "execute_result"
    }
   ],
   "source": [
    "tf.constant([2.0])"
   ]
  },
  {
   "cell_type": "code",
   "execution_count": 3,
   "id": "a4635452",
   "metadata": {},
   "outputs": [],
   "source": [
    "(x_train_def, y_train_def), (x_test_def, y_test_def) = tf.keras.datasets.fashion_mnist.load_data()\n",
    "\n",
    "x_train_def = tf.constant(x_train_def)\n",
    "y_train_def = tf.constant(y_train_def)\n",
    "x_test_def = tf.constant(x_test_def)\n",
    "y_test_def = tf.constant(y_test_def)"
   ]
  },
  {
   "cell_type": "code",
   "execution_count": 4,
   "id": "bcd6c7ab",
   "metadata": {},
   "outputs": [],
   "source": [
    "def keep_selected_classes(x, y, classes_to_drop):\n",
    "    mask = tf.math.logical_or(*[y == class_to_drop for class_to_drop in classes_to_drop])\n",
    "    return x[mask], y[mask]\n",
    "\n",
    "x_train_prep, y_train_prep = keep_selected_classes(x_train_def, y_train_def, [3, 5])\n",
    "x_test_prep, y_test_prep = keep_selected_classes(x_test_def, y_test_def, [3, 5])"
   ]
  },
  {
   "cell_type": "code",
   "execution_count": 5,
   "id": "8e32274f",
   "metadata": {},
   "outputs": [
    {
     "name": "stdout",
     "output_type": "stream",
     "text": [
      "Length after / length before\n",
      "train 0.2\n",
      " test 0.2\n",
      "========================\n",
      "Unique values after drop\n",
      "train [3 5]\n",
      " test [3 5]\n"
     ]
    }
   ],
   "source": [
    "print('Length after / length before')\n",
    "print('train', len(x_train_prep) / len(x_train_def))\n",
    "print(' test', len(x_test_prep) / len(x_test_def))\n",
    "\n",
    "print('========================')\n",
    "print('Unique values after drop')\n",
    "print('train', np.unique(y_train_prep))\n",
    "print(' test', np.unique(y_test_prep))"
   ]
  },
  {
   "cell_type": "code",
   "execution_count": 6,
   "id": "87bd30ed",
   "metadata": {},
   "outputs": [
    {
     "data": {
      "image/png": "[encoded data removed]",
      "text/plain": [
       "<Figure size 720x288 with 10 Axes>"
      ]
     },
     "metadata": {
      "needs_background": "light"
     },
     "output_type": "display_data"
    }
   ],
   "source": [
    "plt.rcParams['figure.figsize'] = [10, 4]\n",
    "\n",
    "for i in range(1, 11):\n",
    "    plt.subplot(2, 5, i)\n",
    "    plt.imshow(x_train_prep[i], cmap='binary')\n",
    "    plt.axis('off')\n",
    "    \n",
    "plt.tight_layout()\n",
    "plt.savefig('./plots/set_after_selection.jpg')\n",
    "plt.show()"
   ]
  },
  {
   "cell_type": "markdown",
   "id": "8b452a44",
   "metadata": {},
   "source": [
    "# Data preprocessing"
   ]
  },
  {
   "cell_type": "markdown",
   "id": "674a230d",
   "metadata": {},
   "source": [
    "## Flattening"
   ]
  },
  {
   "cell_type": "code",
   "execution_count": 7,
   "id": "578f2038",
   "metadata": {},
   "outputs": [
    {
     "data": {
      "text/plain": [
       "TensorShape([12000, 28, 28])"
      ]
     },
     "execution_count": 7,
     "metadata": {},
     "output_type": "execute_result"
    }
   ],
   "source": [
    "x_train_prep.shape"
   ]
  },
  {
   "cell_type": "code",
   "execution_count": 8,
   "id": "44501b48",
   "metadata": {},
   "outputs": [
    {
     "data": {
      "text/plain": [
       "TensorShape([12000, 784])"
      ]
     },
     "execution_count": 8,
     "metadata": {},
     "output_type": "execute_result"
    }
   ],
   "source": [
    "x_train_flat = tf.reshape(x_train_prep, shape=[-1, 28 * 28])\n",
    "x_test_flat = tf.reshape(x_test_prep, shape=[-1, 28 * 28])\n",
    "\n",
    "x_train_flat.shape"
   ]
  },
  {
   "cell_type": "markdown",
   "id": "55188160",
   "metadata": {},
   "source": [
    "## Normalization"
   ]
  },
  {
   "cell_type": "code",
   "execution_count": 9,
   "id": "4919292a",
   "metadata": {},
   "outputs": [
    {
     "name": "stdout",
     "output_type": "stream",
     "text": [
      "min:  tf.Tensor(0.0, shape=(), dtype=float32)\n",
      "max:  tf.Tensor(1.0, shape=(), dtype=float32)\n"
     ]
    }
   ],
   "source": [
    "x_train_norm = tf.cast(x_train_flat, dtype=tf.float32) / 255.\n",
    "x_test_norm = tf.cast(x_test_flat, dtype=tf.float32) / 255.\n",
    "\n",
    "print('min: ', tf.keras.backend.min(x_train_norm))\n",
    "print('max: ', tf.keras.backend.max(x_train_norm))"
   ]
  },
  {
   "cell_type": "markdown",
   "id": "6b836b6f",
   "metadata": {},
   "source": [
    "## Labels\n",
    "- Dresses: 3 -> 0\n",
    "- Sandals: 5 -> 1"
   ]
  },
  {
   "cell_type": "code",
   "execution_count": 11,
   "id": "865c1995",
   "metadata": {},
   "outputs": [
    {
     "name": "stdout",
     "output_type": "stream",
     "text": [
      "tf.Tensor([3 5 5 ... 5 3 5], shape=(12000,), dtype=uint8)\n",
      "tf.Tensor([0 1 1 ... 1 0 1], shape=(12000,), dtype=int32)\n"
     ]
    }
   ],
   "source": [
    "y_train_lab = tf.where(y_train_prep == 3, 0, 1)\n",
    "y_test_lab = tf.where(y_test_prep == 3, 0, 1)\n",
    "\n",
    "print(y_train_prep)\n",
    "print(y_train_lab)"
   ]
  }
 ],
 "metadata": {
  "kernelspec": {
   "display_name": "Python 3 (ipykernel)",
   "language": "python",
   "name": "python3"
  },
  "language_info": {
   "codemirror_mode": {
    "name": "ipython",
    "version": 3
   },
   "file_extension": ".py",
   "mimetype": "text/x-python",
   "name": "python",
   "nbconvert_exporter": "python",
   "pygments_lexer": "ipython3",
   "version": "3.9.7"
  }
 },
 "nbformat": 4,
 "nbformat_minor": 5
}
