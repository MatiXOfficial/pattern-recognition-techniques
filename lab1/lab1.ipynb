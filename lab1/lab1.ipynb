{
 "cells": [
  {
   "cell_type": "code",
   "execution_count": 1,
   "id": "415ad2ff",
   "metadata": {},
   "outputs": [],
   "source": [
    "import numpy as np\n",
    "import tensorflow as tf\n",
    "\n",
    "%matplotlib inline\n",
    "import matplotlib as mpl\n",
    "from matplotlib import pyplot as plt\n",
    "mpl.rc('axes', labelsize=14)\n",
    "mpl.rc('xtick', labelsize=12)\n",
    "mpl.rc('ytick', labelsize=12)\n",
    "\n",
    "import random\n",
    "random.seed(42)"
   ]
  },
  {
   "cell_type": "markdown",
   "id": "a84c0044",
   "metadata": {},
   "source": [
    "# Preparing the dataset"
   ]
  },
  {
   "cell_type": "code",
   "execution_count": 2,
   "id": "a4635452",
   "metadata": {},
   "outputs": [],
   "source": [
    "(x_train_def, y_train_def), (x_test_def, y_test_def) = tf.keras.datasets.fashion_mnist.load_data()\n",
    "\n",
    "x_train_def = tf.constant(x_train_def)\n",
    "y_train_def = tf.constant(y_train_def)\n",
    "x_test_def = tf.constant(x_test_def)\n",
    "y_test_def = tf.constant(y_test_def)"
   ]
  },
  {
   "cell_type": "code",
   "execution_count": 3,
   "id": "bcd6c7ab",
   "metadata": {},
   "outputs": [],
   "source": [
    "def keep_selected_classes(x, y, classes_to_keep):\n",
    "    mask = tf.math.logical_or(*[y == c for c in classes_to_keep])\n",
    "    x, y = x[mask], y[mask]\n",
    "    y = tf.where(y == classes_to_keep[0], 0, 1)\n",
    "    return x, y\n",
    "\n",
    "classes_to_keep = (3, 5)\n",
    "x_train, y_train = keep_selected_classes(x_train_def, y_train_def, classes_to_keep)\n",
    "x_test, y_test = keep_selected_classes(x_test_def, y_test_def, classes_to_keep)"
   ]
  },
  {
   "cell_type": "code",
   "execution_count": 4,
   "id": "8e32274f",
   "metadata": {},
   "outputs": [
    {
     "name": "stdout",
     "output_type": "stream",
     "text": [
      "Length after / length before\n",
      "train 0.2\n",
      " test 0.2\n",
      "========================\n",
      "Unique values after drop\n",
      "train [0 1]\n",
      " test [0 1]\n"
     ]
    }
   ],
   "source": [
    "print('Length after / length before')\n",
    "print('train', len(x_train) / len(x_train_def))\n",
    "print(' test', len(x_test) / len(x_test_def))\n",
    "\n",
    "print('========================')\n",
    "print('Unique values after drop')\n",
    "print('train', np.unique(y_train))\n",
    "print(' test', np.unique(y_test))"
   ]
  },
  {
   "cell_type": "code",
   "execution_count": 5,
   "id": "87bd30ed",
   "metadata": {},
   "outputs": [
    {
     "data": {
      "image/png": "[encoded data removed]",
      "text/plain": [
       "<Figure size 720x288 with 10 Axes>"
      ]
     },
     "metadata": {
      "needs_background": "light"
     },
     "output_type": "display_data"
    }
   ],
   "source": [
    "plt.rcParams['figure.figsize'] = [10, 4]\n",
    "\n",
    "for i in range(1, 11):\n",
    "    plt.subplot(2, 5, i)\n",
    "    plt.imshow(x_train[i], cmap='gray')\n",
    "    plt.axis('off')\n",
    "    \n",
    "plt.tight_layout()\n",
    "plt.savefig('./plots/set_after_selection.jpg')\n",
    "plt.show()"
   ]
  },
  {
   "cell_type": "markdown",
   "id": "8b452a44",
   "metadata": {},
   "source": [
    "# Model"
   ]
  },
  {
   "cell_type": "code",
   "execution_count": 6,
   "id": "7cbf0f72",
   "metadata": {},
   "outputs": [],
   "source": [
    "class LogisticRegressionModel(tf.keras.Model):\n",
    "    \n",
    "    def __init__(self):\n",
    "        super().__init__()\n",
    "        self.dense = tf.keras.layers.Dense(1, activation=tf.nn.sigmoid)\n",
    "    \n",
    "    def call(self, inputs):\n",
    "        # preprocessing\n",
    "        x = tf.reshape(inputs, shape=[-1, 28 * 28]) # flatten\n",
    "        x = tf.cast(x, dtype=tf.float32) / 255. # normalization\n",
    "        \n",
    "        # dense layer\n",
    "        return self.dense(x)"
   ]
  },
  {
   "cell_type": "code",
   "execution_count": 7,
   "id": "2eeaf2ed",
   "metadata": {},
   "outputs": [
    {
     "name": "stdout",
     "output_type": "stream",
     "text": [
      "min:  0.21533999 , max: 0.71588564\n",
      "[[0.6293883 ]\n",
      " [0.52445495]\n",
      " [0.3997049 ]\n",
      " ...\n",
      " [0.49243447]\n",
      " [0.52055293]\n",
      " [0.4080863 ]]\n"
     ]
    }
   ],
   "source": [
    "model = LogisticRegressionModel()\n",
    "y_pred = model.predict(x_train)\n",
    "print('min: ', np.min(y_pred), ', max:', np.max(y_pred))\n",
    "print(y_pred)"
   ]
  },
  {
   "cell_type": "code",
   "execution_count": 8,
   "id": "3f70048a",
   "metadata": {},
   "outputs": [
    {
     "data": {
      "image/png": "[encoded data removed]",
      "text/plain": [
       "<Figure size 432x432 with 1 Axes>"
      ]
     },
     "metadata": {
      "needs_background": "light"
     },
     "output_type": "display_data"
    }
   ],
   "source": [
    "weights, _ = model.get_layer(index=0).weights\n",
    "weights = tf.reshape(weights, shape=(28, 28))\n",
    "\n",
    "plt.rcParams['figure.figsize'] = [6, 6]\n",
    "plt.imshow(weights, cmap='gray')\n",
    "plt.axis('off')\n",
    "plt.tight_layout()\n",
    "plt.savefig('./plots/start_weights.jpg')\n",
    "plt.show()"
   ]
  },
  {
   "cell_type": "markdown",
   "id": "5175b165",
   "metadata": {},
   "source": [
    "# Fitting"
   ]
  },
  {
   "cell_type": "code",
   "execution_count": 9,
   "id": "fa2c5653",
   "metadata": {},
   "outputs": [
    {
     "name": "stdout",
     "output_type": "stream",
     "text": [
      "Epoch 1/15\n",
      "375/375 [==============================] - 0s 401us/step - loss: 0.1397\n",
      "Epoch 2/15\n",
      "375/375 [==============================] - 0s 428us/step - loss: 0.0460\n",
      "Epoch 3/15\n",
      "375/375 [==============================] - 0s 422us/step - loss: 0.0331\n",
      "Epoch 4/15\n",
      "375/375 [==============================] - 0s 401us/step - loss: 0.0271\n",
      "Epoch 5/15\n",
      "375/375 [==============================] - 0s 390us/step - loss: 0.0234\n",
      "Epoch 6/15\n",
      "375/375 [==============================] - 0s 401us/step - loss: 0.0209\n",
      "Epoch 7/15\n",
      "375/375 [==============================] - 0s 390us/step - loss: 0.0190\n",
      "Epoch 8/15\n",
      "375/375 [==============================] - 0s 447us/step - loss: 0.0176\n",
      "Epoch 9/15\n",
      "375/375 [==============================] - 0s 420us/step - loss: 0.0164\n",
      "Epoch 10/15\n",
      "375/375 [==============================] - 0s 414us/step - loss: 0.0154\n",
      "Epoch 11/15\n",
      "375/375 [==============================] - 0s 430us/step - loss: 0.0146\n",
      "Epoch 12/15\n",
      "375/375 [==============================] - 0s 390us/step - loss: 0.0139\n",
      "Epoch 13/15\n",
      "375/375 [==============================] - 0s 393us/step - loss: 0.0132\n",
      "Epoch 14/15\n",
      "375/375 [==============================] - 0s 390us/step - loss: 0.0127\n",
      "Epoch 15/15\n",
      "375/375 [==============================] - 0s 404us/step - loss: 0.0122\n"
     ]
    },
    {
     "data": {
      "text/plain": [
       "<keras.callbacks.History at 0x26fa6e5a9d0>"
      ]
     },
     "execution_count": 9,
     "metadata": {},
     "output_type": "execute_result"
    }
   ],
   "source": [
    "model.compile(optimizer='SGD', loss='binary_crossentropy')\n",
    "model.fit(x_train, y_train, epochs=15)"
   ]
  },
  {
   "cell_type": "code",
   "execution_count": 10,
   "id": "181b7ea7",
   "metadata": {},
   "outputs": [
    {
     "data": {
      "image/png": "[encoded data removed]",
      "text/plain": [
       "<Figure size 432x432 with 1 Axes>"
      ]
     },
     "metadata": {
      "needs_background": "light"
     },
     "output_type": "display_data"
    }
   ],
   "source": [
    "weights, _ = model.get_layer(index=0).weights\n",
    "weights = tf.reshape(weights, shape=(28, 28))\n",
    "\n",
    "plt.rcParams['figure.figsize'] = [6, 6]\n",
    "plt.imshow(weights, cmap='gray')\n",
    "plt.axis('off')\n",
    "plt.tight_layout()\n",
    "plt.savefig('./plots/end_weights.jpg')\n",
    "plt.show()"
   ]
  },
  {
   "cell_type": "code",
   "execution_count": 11,
   "id": "007c6fe8",
   "metadata": {},
   "outputs": [
    {
     "name": "stdout",
     "output_type": "stream",
     "text": [
      "TRAIN SET\n",
      "true labels: [0 1 1 1 1 0 0 1 0 1 1 0 0 0 0 0 0 1 1 1]\n",
      "  predicted: [0 1 1 1 1 0 0 1 0 0 1 0 0 0 0 0 0 1 1 1]\n"
     ]
    },
    {
     "data": {
      "text/plain": [
       "<matplotlib.image.AxesImage at 0x26fa5e34700>"
      ]
     },
     "execution_count": 11,
     "metadata": {},
     "output_type": "execute_result"
    },
    {
     "data": {
      "image/png": "[encoded data removed]",
      "text/plain": [
       "<Figure size 432x432 with 1 Axes>"
      ]
     },
     "metadata": {
      "needs_background": "light"
     },
     "output_type": "display_data"
    }
   ],
   "source": [
    "print('TRAIN SET')\n",
    "y_pred = model.predict(x_train)\n",
    "print('true labels:', y_train.numpy()[:20])\n",
    "print('  predicted:', np.around(y_pred[:20].reshape((20))).astype(int))\n",
    "\n",
    "plt.imshow(x_train[9], cmap='gray')"
   ]
  },
  {
   "cell_type": "code",
   "execution_count": 12,
   "id": "07e2fc18",
   "metadata": {},
   "outputs": [
    {
     "name": "stdout",
     "output_type": "stream",
     "text": [
      "TEST SET\n",
      "true labels: [1 1 0 1 0 0 0 1 0 1 1 0 0 1 1 0 1 0 0 1]\n",
      "  predicted: [1 1 0 1 0 0 0 1 0 1 1 0 0 1 1 0 1 0 0 1]\n"
     ]
    }
   ],
   "source": [
    "print('TEST SET')\n",
    "y_pred = model.predict(x_test)\n",
    "print('true labels:', y_test.numpy()[:20])\n",
    "print('  predicted:', np.around(y_pred[:20].reshape((20))).astype(int))"
   ]
  },
  {
   "cell_type": "code",
   "execution_count": null,
   "id": "bad2c0c3",
   "metadata": {},
   "outputs": [],
   "source": []
  }
 ],
 "metadata": {
  "kernelspec": {
   "display_name": "Python 3 (ipykernel)",
   "language": "python",
   "name": "python3"
  },
  "language_info": {
   "codemirror_mode": {
    "name": "ipython",
    "version": 3
   },
   "file_extension": ".py",
   "mimetype": "text/x-python",
   "name": "python",
   "nbconvert_exporter": "python",
   "pygments_lexer": "ipython3",
   "version": "3.9.7"
  }
 },
 "nbformat": 4,
 "nbformat_minor": 5
}
